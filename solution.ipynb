{
 "cells": [
  {
   "cell_type": "code",
   "execution_count": null,
   "id": "4b4f89a7",
   "metadata": {},
   "outputs": [],
   "source": [
    "from matplotlib import pyplot as plt\n",
    "import torch\n",
    "from torch import nn\n",
    "from torch.utils.data import DataLoader\n",
    "from torchvision.datasets import ImageFolder\n",
    "from torchvision.models import regnet_y_400mf\n",
    "from torchvision.transforms import v2\n",
    "\n",
    "from src.train_model import train_one_epoch"
   ]
  },
  {
   "cell_type": "markdown",
   "id": "2800001a",
   "metadata": {},
   "source": [
    "### 1. Загрузка и предобразботка данных"
   ]
  },
  {
   "cell_type": "code",
   "execution_count": null,
   "id": "6f62df20",
   "metadata": {},
   "outputs": [],
   "source": [
    "train_transforms = v2.Compose([\n",
    "    # v2.RandomRotation([-5, 5], fill=255),\n",
    "    v2.RandomHorizontalFlip(),\n",
    "    v2.RandomVerticalFlip(),\n",
    "    v2.RandomPhotometricDistort(contrast=[0.9, 1.1],\n",
    "                                hue=[-0.05, 0.05]),\n",
    "                                v2.Resize((224, 224)),\n",
    "                                v2.ToTensor(),\n",
    "                                # v2.Normalize([0.5], [0.5])\n",
    "                                ])\n",
    "val_transforms = v2.Compose([\n",
    "    v2.Resize((224, 224)),\n",
    "    v2.ToTensor(),\n",
    "    # v2.Normalize([0.5], [0.5])\n",
    "    ])"
   ]
  },
  {
   "cell_type": "code",
   "execution_count": null,
   "id": "ac613d99",
   "metadata": {},
   "outputs": [],
   "source": [
    "train_dataset = ImageFolder('ogyeiv2/train', transform=train_transforms)\n",
    "val_dataset = ImageFolder('ogyeiv2/test', transform=val_transforms)"
   ]
  },
  {
   "cell_type": "code",
   "execution_count": null,
   "id": "1ca49c92",
   "metadata": {},
   "outputs": [],
   "source": [
    "classes = train_dataset.classes"
   ]
  },
  {
   "cell_type": "code",
   "execution_count": null,
   "id": "f885bb1d",
   "metadata": {},
   "outputs": [],
   "source": [
    "fig = plt.figure(figsize=(25, 5))\n",
    "for i in range(1, 6):\n",
    "    image, label = train_dataset[100 + i]\n",
    "    plt.subplot(1, 5, i)\n",
    "    plt.imshow(image.permute((1, 2, 0)))\n",
    "    print(classes[label])\n",
    "plt.show()\n"
   ]
  },
  {
   "cell_type": "code",
   "execution_count": null,
   "id": "f2e08fcb",
   "metadata": {},
   "outputs": [],
   "source": [
    "batch_size = 32\n",
    "train_loader = DataLoader(dataset=train_dataset, batch_size=batch_size, shuffle=True)\n",
    "val_loader = DataLoader(dataset=val_dataset, batch_size=batch_size, shuffle=True)"
   ]
  },
  {
   "cell_type": "code",
   "execution_count": null,
   "id": "961048d4",
   "metadata": {},
   "outputs": [],
   "source": [
    "print('Количество классов:', len(classes))\n",
    "print('Количество изображений в обучающем датасете:', len(train_dataset))\n",
    "print('Количество изображений в валидационном датасете:', len(val_dataset))"
   ]
  },
  {
   "cell_type": "markdown",
   "id": "cf00759e",
   "metadata": {},
   "source": [
    "### 2. Объявление модели"
   ]
  },
  {
   "cell_type": "code",
   "execution_count": null,
   "id": "2c7de154",
   "metadata": {},
   "outputs": [],
   "source": [
    "device = torch.device('cuda' if torch.cuda.is_available() else 'cpu')\n",
    "print('Устройство обучения:', device)"
   ]
  },
  {
   "cell_type": "code",
   "execution_count": null,
   "id": "dd17b7de",
   "metadata": {},
   "outputs": [],
   "source": [
    "model = regnet_y_400mf(weights='IMAGENET1K_V2')"
   ]
  },
  {
   "cell_type": "code",
   "execution_count": null,
   "id": "30347f59",
   "metadata": {},
   "outputs": [],
   "source": [
    "model.fc = nn.Linear(in_features=440, out_features=84)"
   ]
  },
  {
   "cell_type": "code",
   "execution_count": null,
   "id": "90ce9e87",
   "metadata": {},
   "outputs": [],
   "source": [
    "for param in model.parameters():\n",
    "    param.requires_grad = False\n",
    "    \n",
    "for param in model.fc.parameters():\n",
    "    param.requires_grad = True"
   ]
  },
  {
   "cell_type": "code",
   "execution_count": null,
   "id": "790cc133",
   "metadata": {},
   "outputs": [],
   "source": [
    "model.to(device)"
   ]
  },
  {
   "cell_type": "markdown",
   "id": "9efe6751",
   "metadata": {},
   "source": [
    "### 3. Обучение или дообучение"
   ]
  },
  {
   "cell_type": "code",
   "execution_count": null,
   "id": "10491377",
   "metadata": {},
   "outputs": [],
   "source": [
    "criterion = nn.CrossEntropyLoss()\n",
    "optimizer = torch.optim.Adam(model.parameters(), lr=0.0001)"
   ]
  },
  {
   "cell_type": "code",
   "execution_count": null,
   "id": "45ff5edc",
   "metadata": {},
   "outputs": [],
   "source": [
    "EPOCHS = 10"
   ]
  },
  {
   "cell_type": "code",
   "execution_count": null,
   "id": "05c28dea",
   "metadata": {},
   "outputs": [],
   "source": [
    "train_losses = []\n",
    "val_losses = []\n",
    "\n",
    "for epoch in range(EPOCHS):\n",
    "    model.train()\n",
    "    train_loss = train_one_epoch(train_loader=train_loader, model=model,\n",
    "                                 criterion=criterion, optimizer=optimizer,\n",
    "                                 device=device, epoch_index=epoch)\n",
    "    print(f'Epoch: {epoch}, train loss: {train_loss}')\n",
    "    train_losses.append(train_loss)\n",
    "    \n",
    "    running_vloss = 0\n",
    "    model.eval()\n",
    "    with torch.no_grad():\n",
    "        for inputs, labels in val_loader:\n",
    "            inputs, labels = inputs.to(device), labels.to(device)\n",
    "            outputs = model(inputs)\n",
    "            loss = criterion(outputs, labels)\n",
    "\n",
    "            running_vloss += loss.item()\n",
    "    val_loss = running_vloss / len(val_loader)\n",
    "    print(f'Epoch: {epoch}, val loss: {val_loss}')\n",
    "    val_losses.append(val_loss)\n",
    "    "
   ]
  },
  {
   "cell_type": "code",
   "execution_count": null,
   "id": "a04c2f4f",
   "metadata": {},
   "outputs": [],
   "source": []
  },
  {
   "cell_type": "code",
   "execution_count": null,
   "id": "83828247",
   "metadata": {},
   "outputs": [],
   "source": []
  },
  {
   "cell_type": "code",
   "execution_count": null,
   "id": "c1a7ecb5",
   "metadata": {},
   "outputs": [],
   "source": []
  },
  {
   "cell_type": "markdown",
   "id": "63326589",
   "metadata": {},
   "source": [
    "### 4. Оценка качества"
   ]
  },
  {
   "cell_type": "code",
   "execution_count": null,
   "id": "375fe46e",
   "metadata": {},
   "outputs": [],
   "source": []
  },
  {
   "cell_type": "code",
   "execution_count": null,
   "id": "850be479",
   "metadata": {},
   "outputs": [],
   "source": []
  },
  {
   "cell_type": "code",
   "execution_count": null,
   "id": "14d439e5",
   "metadata": {},
   "outputs": [],
   "source": []
  }
 ],
 "metadata": {
  "kernelspec": {
   "display_name": ".venv",
   "language": "python",
   "name": "python3"
  },
  "language_info": {
   "codemirror_mode": {
    "name": "ipython",
    "version": 3
   },
   "file_extension": ".py",
   "mimetype": "text/x-python",
   "name": "python",
   "nbconvert_exporter": "python",
   "pygments_lexer": "ipython3",
   "version": "3.9.13"
  }
 },
 "nbformat": 4,
 "nbformat_minor": 5
}
